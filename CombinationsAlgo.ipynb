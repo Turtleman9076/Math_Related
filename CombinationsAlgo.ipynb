{
 "cells": [
  {
   "cell_type": "code",
   "execution_count": 53,
   "id": "41caf409",
   "metadata": {},
   "outputs": [],
   "source": [
    "import numpy as np\n",
    "from datetime import date\n",
    "import itertools\n",
    "import pandas as pd\n",
    "import matplotlib.pyplot as plt\n"
   ]
  },
  {
   "cell_type": "code",
   "execution_count": 57,
   "id": "fc851ae9",
   "metadata": {},
   "outputs": [
    {
     "name": "stdout",
     "output_type": "stream",
     "text": [
      "Total Unique Combinations: 66795\n",
      "Total Rows: 8171255\n"
     ]
    }
   ],
   "source": [
    "N = 365\n",
    "today = date.today()\n",
    "dateList = []\n",
    "combinationslist = []\n",
    "\n",
    "date_list = [today - datetime.timedelta(days=x) for x in range(N)]\n",
    "\n",
    "for x in range(N):\n",
    "    for y in range(N):\n",
    "        xi = date_list[x]\n",
    "        yi = date_list[y]\n",
    "        \n",
    "        templist = sorted([xi,yi])\n",
    "        \n",
    "        delta = templist[1] - templist[0]\n",
    "        \n",
    "        templist.append(delta.days + 1)\n",
    "        \n",
    "        if templist not in combinationslist:\n",
    "            combinationslist.append(templist)\n",
    "        \n",
    "        templist = None\n",
    "        xi = None\n",
    "        yi = None\n",
    "\n",
    "        \n",
    "df = pd.DataFrame(combinationslist, columns = [\"Start_Date\",\"End_Date\",\"Total_Days\"])\n",
    "\n",
    "\n",
    "print(\"Total Unique Combinations: \" + str(df[\"Start_Date\"].count()))\n",
    "print(\"Total Rows: \" + str(df[\"Total_Days\"].sum()))"
   ]
  },
  {
   "cell_type": "code",
   "execution_count": 58,
   "id": "bc428c5f",
   "metadata": {},
   "outputs": [
    {
     "data": {
      "image/png": "[encoded data removed]",
      "text/plain": [
       "<Figure size 432x288 with 1 Axes>"
      ]
     },
     "metadata": {
      "needs_background": "light"
     },
     "output_type": "display_data"
    }
   ],
   "source": [
    "Max_Date = 90\n",
    "today = date.today()\n",
    "dateList = []\n",
    "combinationslist = []\n",
    "\n",
    "Combinations_list = []\n",
    "Row_list = []\n",
    "\n",
    "\n",
    "for i in range(Max_Date):\n",
    "    \n",
    "    \n",
    "    \n",
    "    date_list = [today - datetime.timedelta(days=x) for x in range(i)]\n",
    "\n",
    "    for x in range(i):\n",
    "        for y in range(i):\n",
    "            xi = date_list[x]\n",
    "            yi = date_list[y]\n",
    "\n",
    "            templist = sorted([xi,yi])\n",
    "\n",
    "            delta = templist[1] - templist[0]\n",
    "\n",
    "            templist.append(delta.days + 1)\n",
    "\n",
    "            if templist not in combinationslist:\n",
    "                combinationslist.append(templist)\n",
    "\n",
    "            templist = None\n",
    "            xi = None\n",
    "            yi = None\n",
    "\n",
    "\n",
    "    df = pd.DataFrame(combinationslist, columns = [\"Start_Date\",\"End_Date\",\"Total_Days\"])\n",
    "\n",
    "\n",
    "    Combinations_list.append(df[\"Start_Date\"].count())\n",
    "    Row_list.append(df[\"Total_Days\"].sum())\n",
    "    \n",
    "days_index = [xn for xn in range(Max_Date)]\n",
    "    \n",
    "plt.bar(days_index, Row_list, color ='maroon',\n",
    "        width = 0.4)\n",
    " \n",
    "plt.xlabel(\"Total difference in date range\")\n",
    "plt.ylabel(\"Number of Rows in Date Range Table\")\n",
    "plt.title(\"Date Range Table Calculations\")\n",
    "plt.show()"
   ]
  }
 ],
 "metadata": {
  "kernelspec": {
   "display_name": "Python 3 (ipykernel)",
   "language": "python",
   "name": "python3"
  },
  "language_info": {
   "codemirror_mode": {
    "name": "ipython",
    "version": 3
   },
   "file_extension": ".py",
   "mimetype": "text/x-python",
   "name": "python",
   "nbconvert_exporter": "python",
   "pygments_lexer": "ipython3",
   "version": "3.9.7"
  }
 },
 "nbformat": 4,
 "nbformat_minor": 5
}
